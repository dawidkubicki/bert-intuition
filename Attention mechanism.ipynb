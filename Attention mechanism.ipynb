{
 "cells": [
  {
   "cell_type": "markdown",
   "metadata": {},
   "source": [
    "## Attention mechanism in transformers\n",
    "\n",
    "### Main idea:\n",
    "    - 2 sequences(equals in case of self attention), A and B\n",
    "    - let's see how much each element from A is related to each element from B\n",
    "    - let's recombine A according to this\n",
    "    \n",
    "### Before:\n",
    "    a given sequence A (and a context B).\n",
    "### After:\n",
    "    a new sequence where element i is a mix of elements from A that were related to element B(i)\n",
    "    "
   ]
  },
  {
   "cell_type": "markdown",
   "metadata": {},
   "source": [
    "### Dot product:\n",
    "    mathematically, gives information about the similarity between 2 vectors"
   ]
  },
  {
   "cell_type": "code",
   "execution_count": 3,
   "metadata": {},
   "outputs": [
    {
     "name": "stdout",
     "output_type": "stream",
     "text": [
      "gpu PhysicalDevice(name='/physical_device:GPU:0', device_type='GPU')\n",
      "memory growth: True\n"
     ]
    }
   ],
   "source": [
    "import tensorflow as tf\n",
    "gpus = tf.config.experimental.list_physical_devices('GPU')\n",
    "for gpu in gpus:\n",
    "    print('gpu', gpu)\n",
    "    tf.config.experimental.set_memory_growth(gpu, True)\n",
    "    print('memory growth:' , tf.config.experimental.get_memory_growth(gpu))\n",
    "import numpy as np"
   ]
  },
  {
   "cell_type": "code",
   "execution_count": 27,
   "metadata": {},
   "outputs": [
    {
     "name": "stdout",
     "output_type": "stream",
     "text": [
      "[[[0 1]\n",
      "  [2 3]\n",
      "  [4 5]\n",
      "  [6 7]\n",
      "  [8 9]]]\n",
      "[[[10 11 12 13 14]\n",
      "  [15 16 17 18 19]]]\n"
     ]
    }
   ],
   "source": [
    "x = np.arange(10).reshape(1, 5, 2)\n",
    "print(x)\n",
    "\n",
    "y = np.arange(10, 20).reshape(1, 2, 5)\n",
    "print(y)"
   ]
  },
  {
   "cell_type": "code",
   "execution_count": 28,
   "metadata": {},
   "outputs": [
    {
     "name": "stdout",
     "output_type": "stream",
     "text": [
      "tf.Tensor(\n",
      "[[[260 360]\n",
      "  [320 445]]], shape=(1, 2, 2), dtype=int64)\n"
     ]
    }
   ],
   "source": [
    "t = tf.keras.layers.Dot(axes=(1,2))([x,y])\n",
    "print(t)"
   ]
  },
  {
   "cell_type": "code",
   "execution_count": 50,
   "metadata": {},
   "outputs": [
    {
     "name": "stdout",
     "output_type": "stream",
     "text": [
      "2\n",
      "2\n",
      "tf.Tensor(\n",
      "[[ 14. 140.]\n",
      " [ 28. 280.]], shape=(2, 2), dtype=float32)\n"
     ]
    }
   ],
   "source": [
    "a = tf.constant(np.array([[1, 2, 3], [2, 4, 6]]),dtype=tf.float32)\n",
    "print(a.ndim)\n",
    "    # A 3x2 matrix\n",
    "b = tf.constant(np.array([[1, 10],[2, 20],[3, 30]]),dtype=tf.float32)\n",
    "print(b.ndim)\n",
    "    # Perform dot product\n",
    "c = tf.matmul(a, b)\n",
    "\n",
    "print(c)"
   ]
  }
 ],
 "metadata": {
  "kernelspec": {
   "display_name": "Python 3",
   "language": "python",
   "name": "python3"
  },
  "language_info": {
   "codemirror_mode": {
    "name": "ipython",
    "version": 3
   },
   "file_extension": ".py",
   "mimetype": "text/x-python",
   "name": "python",
   "nbconvert_exporter": "python",
   "pygments_lexer": "ipython3",
   "version": "3.8.5"
  }
 },
 "nbformat": 4,
 "nbformat_minor": 4
}
